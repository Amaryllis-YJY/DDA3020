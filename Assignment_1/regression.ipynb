{
 "cells": [
  {
   "cell_type": "code",
   "execution_count": 1,
   "metadata": {},
   "outputs": [],
   "source": [
    "import pandas as pd\n",
    "import numpy as np\n",
    "from sklearn.model_selection import train_test_split"
   ]
  },
  {
   "cell_type": "code",
   "execution_count": 2,
   "metadata": {},
   "outputs": [],
   "source": [
    "data=pd.read_csv('Regression.csv')\n",
    "data=data.iloc[:, 2:]\n"
   ]
  },
  {
   "cell_type": "code",
   "execution_count": 3,
   "metadata": {},
   "outputs": [],
   "source": [
    "data=data.dropna()"
   ]
  },
  {
   "cell_type": "code",
   "execution_count": 4,
   "metadata": {},
   "outputs": [],
   "source": [
    "x=data.iloc[:,0:21].values\n",
    "y=data.iloc[:,21:].values\n",
    "x=np.concatenate((np.ones((x.shape[0],1)),x),axis=1)\n",
    "train_err=[]\n",
    "test_err=[]\n",
    "m=len(y)"
   ]
  },
  {
   "cell_type": "code",
   "execution_count": 5,
   "metadata": {},
   "outputs": [
    {
     "name": "stdout",
     "output_type": "stream",
     "text": [
      "Trial 1: Training RMSE=3.4059010964927596, Testing RMSE=3.403033518197842\n",
      "Trial 2: Training RMSE=3.413073812359275, Testing RMSE=3.3718331286994423\n",
      "Trial 3: Training RMSE=3.4097797896471578, Testing RMSE=3.380380370078906\n",
      "Trial 4: Training RMSE=3.3919070122734047, Testing RMSE=3.453680291512429\n",
      "Trial 5: Training RMSE=3.3839557806079177, Testing RMSE=3.4881227557879515\n",
      "Trial 6: Training RMSE=3.3879519375650533, Testing RMSE=3.4744093717581945\n",
      "Trial 7: Training RMSE=3.3944425565495115, Testing RMSE=3.446688783859638\n",
      "Trial 8: Training RMSE=3.414742671866578, Testing RMSE=3.363316979487835\n",
      "Trial 9: Training RMSE=3.401840401086173, Testing RMSE=3.4207662706413586\n",
      "Trial 10: Training RMSE=3.402084529177345, Testing RMSE=3.414710643447342\n"
     ]
    }
   ],
   "source": [
    "for i in range(10):\n",
    "    x_train,x_test,y_train,y_test=train_test_split(x,y,test_size=0.2)\n",
    "    theta=np.zeros((x_train.shape[1],2))\n",
    "    learn_rate=0.00000000001\n",
    "\n",
    "    for j in range(1000):\n",
    "        predict_y_train=np.dot(x_train,theta)\n",
    "        err=predict_y_train-y_train\n",
    "        grad=np.dot(x_train.T,err)\n",
    "        theta-=grad*learn_rate\n",
    "    \n",
    "    predict_y_train=np.dot(x_train,theta)\n",
    "    predict_y_test=np.dot(x_test,theta)\n",
    "    \n",
    "    rmse_train=np.sqrt(np.mean((y_train-predict_y_train)**2))\n",
    "    rmse_test=np.sqrt(np.mean((y_test-predict_y_test)**2))\n",
    "    train_err.append(rmse_train)\n",
    "    test_err.append(rmse_test)\n",
    "    print(f'Trial {i+1}: Training RMSE={rmse_train}, Testing RMSE={rmse_test}')\n"
   ]
  }
 ],
 "metadata": {
  "kernelspec": {
   "display_name": "Python 3",
   "language": "python",
   "name": "python3"
  },
  "language_info": {
   "codemirror_mode": {
    "name": "ipython",
    "version": 3
   },
   "file_extension": ".py",
   "mimetype": "text/x-python",
   "name": "python",
   "nbconvert_exporter": "python",
   "pygments_lexer": "ipython3",
   "version": "3.11.3"
  },
  "orig_nbformat": 4
 },
 "nbformat": 4,
 "nbformat_minor": 2
}
